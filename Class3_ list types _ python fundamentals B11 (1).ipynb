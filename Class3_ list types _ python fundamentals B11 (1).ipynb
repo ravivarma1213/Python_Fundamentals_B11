{
 "cells": [
  {
   "cell_type": "code",
   "execution_count": 10,
   "metadata": {},
   "outputs": [],
   "source": [
    "#Introduction to list data types\n",
    "stud = [\"RAVI\",\"CHIK\",\"Bet\",\"Ball\"]"
   ]
  },
  {
   "cell_type": "code",
   "execution_count": 11,
   "metadata": {},
   "outputs": [
    {
     "name": "stdout",
     "output_type": "stream",
     "text": [
      "['RAVI', 'CHIK', 'Bet', 'Ball']\n",
      "Ball\n",
      "RAVI\n",
      "Bet\n",
      "BET\n",
      "king ,Ravi\n",
      "direct print,Ball\n"
     ]
    }
   ],
   "source": [
    "print(stud)\n",
    "#require to print particular varaible\n",
    "#indexing always starts with --0,1,2,3....\n",
    "print(stud[3])\n",
    "print(stud[0])\n",
    "print(stud[2].title())\n",
    "print(stud[2].upper())\n",
    "msg = f\"king ,{stud[0].title()}\" #using f string\n",
    "print(msg)\n",
    "print(f\"direct print,{stud[3].title()}\") #using f string)"
   ]
  },
  {
   "cell_type": "code",
   "execution_count": 16,
   "metadata": {},
   "outputs": [
    {
     "name": "stdout",
     "output_type": "stream",
     "text": [
      "['anc', 'RAVI', 'CHIK', 'anc', 'anc', 'Bet', 'Ball', 'rabi', 'rabi', 'rabi', 'rabi']\n",
      "['anc', 'man', 'RAVI', 'CHIK', 'anc', 'anc', 'Bet', 'Ball', 'rabi', 'rabi', 'rabi', 'rabi', 'rabi']\n"
     ]
    }
   ],
   "source": [
    "#changing adding/modify/delete an element in list\n",
    "print(stud)\n",
    "#adding an elemnt to list # append() always add at the end\n",
    "stud.append(\"rabi\")\n",
    "#elements are count in the list\n",
    "# adding element in 2nd position in the list\n",
    "stud.insert(1,'man') #insert --> used to insert an element at particular position, based on index postion\n",
    "print(stud)"
   ]
  },
  {
   "cell_type": "code",
   "execution_count": 20,
   "metadata": {},
   "outputs": [
    {
     "name": "stdout",
     "output_type": "stream",
     "text": [
      "['anc', 'man', 'lion', 'PREM', 'anc', 'anc', 'Bet', 'Ball', 'rabi', 'rabi', 'rabi', 'rabi', 'rabi']\n",
      "['anc', 'man', 'lion', 'PREM', 'anc', 'anc', 'Bet', 'Ball', 'rabi', 'rabi', 'rabi', 'rabi', 'rabi']\n"
     ]
    }
   ],
   "source": [
    "#modify/ chnage an element in the list\n",
    "stud[3]='PREM'\n",
    "print(stud)\n",
    "stud[2]='lion'\n",
    "print(stud)"
   ]
  },
  {
   "cell_type": "code",
   "execution_count": 31,
   "metadata": {},
   "outputs": [
    {
     "name": "stdout",
     "output_type": "stream",
     "text": [
      "['anc', 'man', 'anc']\n"
     ]
    }
   ],
   "source": [
    "#pop() used to delete an element in a list\n",
    "stud.pop(3) # it will not delete the items permantely , it will keep them as a backup\n",
    "print(stud)"
   ]
  },
  {
   "cell_type": "code",
   "execution_count": 38,
   "metadata": {},
   "outputs": [
    {
     "name": "stdout",
     "output_type": "stream",
     "text": [
      "['monkey', 'ravi', 'ravi', 'man', 'anc', 'Lion', 'Lion', 'tiger', 'tiger', 'tiger', 'tiger']\n"
     ]
    }
   ],
   "source": [
    "stud.append('tiger')\n",
    "stud.insert(1,'ravi')\n",
    "stud[0]='monkey'\n",
    "stud.pop(2)\n",
    "print(stud)"
   ]
  },
  {
   "cell_type": "code",
   "execution_count": 39,
   "metadata": {},
   "outputs": [
    {
     "name": "stdout",
     "output_type": "stream",
     "text": [
      "['monkey', 'ravi', 'man', 'anc', 'Lion', 'Lion', 'tiger', 'tiger', 'tiger', 'tiger']\n"
     ]
    }
   ],
   "source": [
    "#remove--\n",
    "stud.remove('ravi')\n",
    "print(stud)"
   ]
  },
  {
   "cell_type": "code",
   "execution_count": 40,
   "metadata": {},
   "outputs": [
    {
     "ename": "TypeError",
     "evalue": "remove() takes exactly one argument (2 given)",
     "output_type": "error",
     "traceback": [
      "\u001b[1;31m---------------------------------------------------------------------------\u001b[0m",
      "\u001b[1;31mTypeError\u001b[0m                                 Traceback (most recent call last)",
      "\u001b[1;32m<ipython-input-40-6a342a73b5f8>\u001b[0m in \u001b[0;36m<module>\u001b[1;34m\u001b[0m\n\u001b[1;32m----> 1\u001b[1;33m \u001b[0mstud\u001b[0m\u001b[1;33m.\u001b[0m\u001b[0mremove\u001b[0m\u001b[1;33m(\u001b[0m\u001b[1;34m'ravi'\u001b[0m\u001b[1;33m,\u001b[0m\u001b[1;34m'lion'\u001b[0m\u001b[1;33m)\u001b[0m\u001b[1;33m\u001b[0m\u001b[1;33m\u001b[0m\u001b[0m\n\u001b[0m",
      "\u001b[1;31mTypeError\u001b[0m: remove() takes exactly one argument (2 given)"
     ]
    }
   ],
   "source": [
    "stud.remove('ravi','lion') # please help how to remove/add/modfify mutilple elements to list"
   ]
  },
  {
   "cell_type": "code",
   "execution_count": 44,
   "metadata": {},
   "outputs": [
    {
     "name": "stdout",
     "output_type": "stream",
     "text": [
      "['kite', 'rope', 'boy']\n",
      "['boy', 'kite', 'rope']\n"
     ]
    }
   ],
   "source": [
    "mystud=['kite','rope','boy']\n",
    "print(mystud)\n",
    "mystud.sort() #sort the elements in alphabetical order\n",
    "# sort is permanent\n",
    "print(mystud)"
   ]
  },
  {
   "cell_type": "code",
   "execution_count": 47,
   "metadata": {},
   "outputs": [
    {
     "name": "stdout",
     "output_type": "stream",
     "text": [
      "['kite', 'rope', 'boy']\n"
     ]
    }
   ],
   "source": [
    "mystud=['kite','rope','boy']\n",
    "print(mystud)"
   ]
  },
  {
   "cell_type": "code",
   "execution_count": 49,
   "metadata": {},
   "outputs": [
    {
     "name": "stdout",
     "output_type": "stream",
     "text": [
      "['boy', 'kite', 'rope']\n",
      "['kite', 'rope', 'boy']\n"
     ]
    }
   ],
   "source": [
    "print(sorted(mystud)) #sorted in temporary\n",
    "print(mystud)"
   ]
  },
  {
   "cell_type": "code",
   "execution_count": 53,
   "metadata": {},
   "outputs": [
    {
     "name": "stdout",
     "output_type": "stream",
     "text": [
      "['boy', 'rope', 'kite']\n",
      "None\n"
     ]
    }
   ],
   "source": [
    "#sort in reverse order\n",
    "mystud.reverse()\n",
    "print(mystud)\n",
    "print(mystud.reverse()) # please suggest why cant we write like this"
   ]
  },
  {
   "cell_type": "code",
   "execution_count": 54,
   "metadata": {},
   "outputs": [
    {
     "data": {
      "text/plain": [
       "3"
      ]
     },
     "execution_count": 54,
     "metadata": {},
     "output_type": "execute_result"
    }
   ],
   "source": [
    "#length of the list \n",
    "len(mystud)"
   ]
  }
 ],
 "metadata": {
  "kernelspec": {
   "display_name": "Python 3",
   "language": "python",
   "name": "python3"
  },
  "language_info": {
   "codemirror_mode": {
    "name": "ipython",
    "version": 3
   },
   "file_extension": ".py",
   "mimetype": "text/x-python",
   "name": "python",
   "nbconvert_exporter": "python",
   "pygments_lexer": "ipython3",
   "version": "3.7.4"
  }
 },
 "nbformat": 4,
 "nbformat_minor": 2
}
