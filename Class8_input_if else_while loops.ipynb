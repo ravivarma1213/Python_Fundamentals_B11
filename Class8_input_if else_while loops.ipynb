{
 "cells": [
  {
   "cell_type": "code",
   "execution_count": 1,
   "metadata": {},
   "outputs": [
    {
     "name": "stdout",
     "output_type": "stream",
     "text": [
      "whats your name ravi\n",
      "ravi\n"
     ]
    }
   ],
   "source": [
    "#class 8 : accepting user input\n",
    "msg = input(\"whats your name \")\n",
    "print(msg)"
   ]
  },
  {
   "cell_type": "code",
   "execution_count": 4,
   "metadata": {},
   "outputs": [
    {
     "name": "stdout",
     "output_type": "stream",
     "text": [
      "pls enter your name ravi\n",
      "welcome  ravi\n"
     ]
    }
   ],
   "source": [
    "#enchancement of code\n",
    "name = input(\"pls enter your name\")\n",
    "print(f\"welcome {name}\")"
   ]
  },
  {
   "cell_type": "code",
   "execution_count": 5,
   "metadata": {},
   "outputs": [
    {
     "name": "stdout",
     "output_type": "stream",
     "text": [
      "how old are you 19\n",
      "19\n"
     ]
    }
   ],
   "source": [
    "# building an voting app\n",
    "# person should be more than 18 yrs\n",
    "age = input(\"how old are you \")\n",
    "print(age)"
   ]
  },
  {
   "cell_type": "code",
   "execution_count": 43,
   "metadata": {},
   "outputs": [
    {
     "ename": "SyntaxError",
     "evalue": "invalid syntax (<ipython-input-43-f306ccf03917>, line 5)",
     "output_type": "error",
     "traceback": [
      "\u001b[1;36m  File \u001b[1;32m\"<ipython-input-43-f306ccf03917>\"\u001b[1;36m, line \u001b[1;32m5\u001b[0m\n\u001b[1;33m    else\u001b[0m\n\u001b[1;37m       ^\u001b[0m\n\u001b[1;31mSyntaxError\u001b[0m\u001b[1;31m:\u001b[0m invalid syntax\n"
     ]
    }
   ],
   "source": [
    "age1 = input(\"whats your age\")\n",
    "age1 = int(age1) # type casting\n",
    "if age1 <= 25: \n",
    "    print(f\"\\n you are eligible to vote {age1}\")\n",
    "    else \n",
    "    print(f\"\\nlow age\")"
   ]
  },
  {
   "cell_type": "code",
   "execution_count": 35,
   "metadata": {},
   "outputs": [
    {
     "ename": "SyntaxError",
     "evalue": "invalid syntax (<ipython-input-35-ac5fc246f19d>, line 6)",
     "output_type": "error",
     "traceback": [
      "\u001b[1;36m  File \u001b[1;32m\"<ipython-input-35-ac5fc246f19d>\"\u001b[1;36m, line \u001b[1;32m6\u001b[0m\n\u001b[1;33m    else\u001b[0m\n\u001b[1;37m       ^\u001b[0m\n\u001b[1;31mSyntaxError\u001b[0m\u001b[1;31m:\u001b[0m invalid syntax\n"
     ]
    }
   ],
   "source": [
    "#identify the number even or odd\n",
    "num = input(\"enter number\")\n",
    "num = int(num)\n",
    "if num%2 == 0:\n",
    "    print(f\" \\n its even {num} is even\")\n",
    "    else \n",
    "    print(f\"\\n its odd {num}\")"
   ]
  },
  {
   "cell_type": "code",
   "execution_count": 41,
   "metadata": {},
   "outputs": [
    {
     "name": "stdout",
     "output_type": "stream",
     "text": [
      "10\n",
      "35\n",
      "60\n",
      "85\n"
     ]
    }
   ],
   "source": [
    "#intro while loops\n",
    "cur_num = 10\n",
    "while cur_num <= 100:\n",
    "    print(cur_num)\n",
    "    cur_num+=25"
   ]
  }
 ],
 "metadata": {
  "kernelspec": {
   "display_name": "Python 3",
   "language": "python",
   "name": "python3"
  },
  "language_info": {
   "codemirror_mode": {
    "name": "ipython",
    "version": 3
   },
   "file_extension": ".py",
   "mimetype": "text/x-python",
   "name": "python",
   "nbconvert_exporter": "python",
   "pygments_lexer": "ipython3",
   "version": "3.7.4"
  }
 },
 "nbformat": 4,
 "nbformat_minor": 2
}
