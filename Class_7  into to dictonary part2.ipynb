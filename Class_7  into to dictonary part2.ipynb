{
 "cells": [
  {
   "cell_type": "code",
   "execution_count": 4,
   "metadata": {},
   "outputs": [
    {
     "name": "stdout",
     "output_type": "stream",
     "text": [
      "{'color': 'green', 'point': 6}\n"
     ]
    }
   ],
   "source": [
    "#class 7 : \n",
    "Alien_0 = {\"color\":\"green\",'point':6}\n",
    "print(Alien_0n_0)"
   ]
  },
  {
   "cell_type": "code",
   "execution_count": 7,
   "metadata": {},
   "outputs": [
    {
     "name": "stdout",
     "output_type": "stream",
     "text": [
      "{'color': 'green'}\n"
     ]
    }
   ],
   "source": [
    "#how to remove the key value pairs\n",
    "#del function\n",
    "del Alien_0['point']\n",
    "print(Alien_0)"
   ]
  },
  {
   "cell_type": "code",
   "execution_count": 9,
   "metadata": {},
   "outputs": [
    {
     "name": "stdout",
     "output_type": "stream",
     "text": [
      "{'ravi': 'sas', 'kiran': 'pyth', 'hari': 'c++', 'raju': 'swift'}\n"
     ]
    }
   ],
   "source": [
    "fav_lang = {'ravi':'sas',\"kiran\":\"pyth\",\"hari\":\"c++\",\"raju\":\"swift\"}\n",
    "print(fav_lang)"
   ]
  },
  {
   "cell_type": "code",
   "execution_count": 11,
   "metadata": {},
   "outputs": [
    {
     "name": "stdout",
     "output_type": "stream",
     "text": [
      "ravi favorite language is SAS\n"
     ]
    }
   ],
   "source": [
    "#enhancement of code\n",
    "language = fav_lang['ravi'].upper()\n",
    "print(f\"ravi favorite language is {language}\")"
   ]
  },
  {
   "cell_type": "code",
   "execution_count": 12,
   "metadata": {},
   "outputs": [
    {
     "name": "stdout",
     "output_type": "stream",
     "text": [
      "point value is missing\n"
     ]
    }
   ],
   "source": [
    "#using get() to access the values\n",
    "point_value = Alien_0.get('point','point value is missing')\n",
    "print(point_value)"
   ]
  },
  {
   "cell_type": "code",
   "execution_count": 25,
   "metadata": {},
   "outputs": [
    {
     "name": "stdout",
     "output_type": "stream",
     "text": [
      "{'username': 'ravi', 'first': 'v', 'last': 'varma'}\n"
     ]
    }
   ],
   "source": [
    "#Looping to dictionaries\n",
    "user_0 = {'username':'ravi',\n",
    "          'first':'v',\n",
    "          'last': 'varma'\n",
    "         }\n",
    "print(user_0)"
   ]
  },
  {
   "cell_type": "code",
   "execution_count": 16,
   "metadata": {},
   "outputs": [
    {
     "name": "stdout",
     "output_type": "stream",
     "text": [
      "\n",
      "key:username\n",
      "\n",
      "value:ravi\n",
      "\n",
      "key:first\n",
      "\n",
      "value:varma\n",
      "\n",
      "key:last\n",
      "\n",
      "value:varma\n"
     ]
    }
   ],
   "source": [
    "for key, value in user_0.items():\n",
    "    print(f\"\\nkey:{key}\")\n",
    "    print(f\"\\nvalue:{value}\")"
   ]
  },
  {
   "cell_type": "code",
   "execution_count": 17,
   "metadata": {},
   "outputs": [
    {
     "name": "stdout",
     "output_type": "stream",
     "text": [
      "\n",
      "key:username\n",
      "\n",
      "value:ravi\n",
      "\n",
      "key:first\n",
      "\n",
      "value:varma\n",
      "\n",
      "key:last\n",
      "\n",
      "value:varma\n"
     ]
    }
   ],
   "source": [
    "for x, y in user_0.items():\n",
    "    print(f\"\\nkey:{x}\")\n",
    "    print(f\"\\nvalue:{y}\")"
   ]
  },
  {
   "cell_type": "code",
   "execution_count": 23,
   "metadata": {},
   "outputs": [
    {
     "name": "stdout",
     "output_type": "stream",
     "text": [
      "Username\n",
      "First\n",
      "Last\n"
     ]
    }
   ],
   "source": [
    "#how to get only keys\n",
    "for x1 in user_0.keys():\n",
    "    print(x1.title())\n",
    "    "
   ]
  },
  {
   "cell_type": "code",
   "execution_count": 26,
   "metadata": {},
   "outputs": [
    {
     "name": "stdout",
     "output_type": "stream",
     "text": [
      "Ravi\n",
      "V\n",
      "Varma\n"
     ]
    }
   ],
   "source": [
    "#how to get only keys\n",
    "for y1 in user_0.values():\n",
    "    print(y1.title())"
   ]
  }
 ],
 "metadata": {
  "kernelspec": {
   "display_name": "Python 3",
   "language": "python",
   "name": "python3"
  },
  "language_info": {
   "codemirror_mode": {
    "name": "ipython",
    "version": 3
   },
   "file_extension": ".py",
   "mimetype": "text/x-python",
   "name": "python",
   "nbconvert_exporter": "python",
   "pygments_lexer": "ipython3",
   "version": "3.7.4"
  }
 },
 "nbformat": 4,
 "nbformat_minor": 2
}
