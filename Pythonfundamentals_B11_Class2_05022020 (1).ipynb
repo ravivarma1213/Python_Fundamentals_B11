{
 "cells": [
  {
   "cell_type": "code",
   "execution_count": 8,
   "metadata": {},
   "outputs": [
    {
     "name": "stdout",
     "output_type": "stream",
     "text": [
      "Python\n",
      "\tpython\n",
      "language:\n",
      "python\n",
      "swift\n",
      "c++\n",
      "language:\n",
      "\tpython\n",
      "\tswift\n",
      "\tc++\n"
     ]
    }
   ],
   "source": [
    "#adding white spaces to strings\n",
    "print(\"Python\")\n",
    "print(\"\\tpython\") #delimeter \\t - tab delimiter\n",
    "print(\"language:\\npython\\nswift\\nc++\") #delimeter \\n - new line delimiter\n",
    "print(\"language:\\n\\tpython\\n\\tswift\\n\\tc++\") #delimeter \\n - new line delimiter and \\t tab delimiter- enhancement of the code"
   ]
  },
  {
   "cell_type": "code",
   "execution_count": 13,
   "metadata": {},
   "outputs": [
    {
     "name": "stdout",
     "output_type": "stream",
     "text": [
      "  python\n",
      "python\n",
      "PYTHON  \n",
      "PYTHON\n",
      "python\n"
     ]
    }
   ],
   "source": [
    "#Removing white spaces\n",
    "x1 = \"  python\"\n",
    "print(x1)\n",
    "#strip methods\n",
    "print(x1.lstrip()) #left trim\n",
    "x2 =\"PYTHON  \"\n",
    "print(x2)\n",
    "print(x2.rstrip()) #right trim\n",
    "print(x1.strip()) #trim both sides"
   ]
  },
  {
   "cell_type": "code",
   "execution_count": 15,
   "metadata": {},
   "outputs": [
    {
     "name": "stdout",
     "output_type": "stream",
     "text": [
      "1 2 3\n"
     ]
    }
   ],
   "source": [
    "#efficent way of assigning\n",
    "x,y,z =1,2,3\n",
    "print(x,y,z)"
   ]
  },
  {
   "cell_type": "code",
   "execution_count": 23,
   "metadata": {},
   "outputs": [
    {
     "name": "stdout",
     "output_type": "stream",
     "text": [
      "1 3.8 9.8888\n",
      "<class 'int'> <class 'float'> <class 'float'> 10.8888 <class 'float'>\n"
     ]
    }
   ],
   "source": [
    "type(x)\n",
    "x,y,z =1,3.8,9.8888\n",
    "print(x,y,z)\n",
    "x1=type(x)\n",
    "x2=type(y)\n",
    "x3=type(z)\n",
    "\n",
    "y1 =x+z\n",
    "y2=type(y1)\n",
    "print(x1,x2,x3,y1,y2)"
   ]
  },
  {
   "cell_type": "code",
   "execution_count": 24,
   "metadata": {
    "scrolled": true
   },
   "outputs": [
    {
     "name": "stdout",
     "output_type": "stream",
     "text": [
      "The Zen of Python, by Tim Peters\n",
      "\n",
      "Beautiful is better than ugly.\n",
      "Explicit is better than implicit.\n",
      "Simple is better than complex.\n",
      "Complex is better than complicated.\n",
      "Flat is better than nested.\n",
      "Sparse is better than dense.\n",
      "Readability counts.\n",
      "Special cases aren't special enough to break the rules.\n",
      "Although practicality beats purity.\n",
      "Errors should never pass silently.\n",
      "Unless explicitly silenced.\n",
      "In the face of ambiguity, refuse the temptation to guess.\n",
      "There should be one-- and preferably only one --obvious way to do it.\n",
      "Although that way may not be obvious at first unless you're Dutch.\n",
      "Now is better than never.\n",
      "Although never is often better than *right* now.\n",
      "If the implementation is hard to explain, it's a bad idea.\n",
      "If the implementation is easy to explain, it may be a good idea.\n",
      "Namespaces are one honking great idea -- let's do more of those!\n"
     ]
    }
   ],
   "source": [
    "#Zen of python\n",
    "import this \n"
   ]
  },
  {
   "cell_type": "code",
   "execution_count": 30,
   "metadata": {},
   "outputs": [
    {
     "name": "stdout",
     "output_type": "stream",
     "text": [
      "6 9 27 81 243\n"
     ]
    }
   ],
   "source": [
    "#square , cube ... \n",
    "x1=3*2\n",
    "x2=3**2\n",
    "x3=3**3\n",
    "x4=3**4\n",
    "x5=3**5\n",
    "print(x1,x2,x3,x4,x5)\n",
    "\n"
   ]
  },
  {
   "cell_type": "markdown",
   "metadata": {},
   "source": [
    "#square , cube ...\n",
    "3**2"
   ]
  }
 ],
 "metadata": {
  "kernelspec": {
   "display_name": "Python 3",
   "language": "python",
   "name": "python3"
  },
  "language_info": {
   "codemirror_mode": {
    "name": "ipython",
    "version": 3
   },
   "file_extension": ".py",
   "mimetype": "text/x-python",
   "name": "python",
   "nbconvert_exporter": "python",
   "pygments_lexer": "ipython3",
   "version": "3.7.4"
  }
 },
 "nbformat": 4,
 "nbformat_minor": 2
}
