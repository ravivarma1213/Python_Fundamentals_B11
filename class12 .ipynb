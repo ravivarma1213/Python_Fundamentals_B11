{
 "cells": [
  {
   "cell_type": "code",
   "execution_count": 36,
   "metadata": {},
   "outputs": [],
   "source": [
    "#class 12 -- modules\n",
    "\n",
    "class dog1:\n",
    "    \"\"\"class of dog\"\"\"\n",
    "    def __init__(self,name,age):\n",
    "        \"\"\"constructor menthod\"\"\"\n",
    "        self.name = name\n",
    "        self.age = age\n",
    "        print(\"this is constructor\")\n",
    "        print(\"this will also print\")\n",
    "    def sit(self):\n",
    "        \"\"\"sit method\"\"\"\n",
    "        print(f\"{self.name} is dog\")\n",
    "    def roll(self):\n",
    "        \"\"\"roll method\"\"\"\n",
    "        print(f\"{self.age} is age of dog\")\n",
    "        "
   ]
  },
  {
   "cell_type": "code",
   "execution_count": 37,
   "metadata": {},
   "outputs": [
    {
     "name": "stdout",
     "output_type": "stream",
     "text": [
      "this is constructor\n",
      "this will also print\n"
     ]
    }
   ],
   "source": [
    "xobj = dog1('aplha',10)"
   ]
  },
  {
   "cell_type": "code",
   "execution_count": 38,
   "metadata": {},
   "outputs": [
    {
     "name": "stdout",
     "output_type": "stream",
     "text": [
      "aplha is dog\n"
     ]
    }
   ],
   "source": [
    "xobj.sit()"
   ]
  },
  {
   "cell_type": "code",
   "execution_count": 41,
   "metadata": {},
   "outputs": [
    {
     "name": "stdout",
     "output_type": "stream",
     "text": [
      "10 is age of dog\n"
     ]
    }
   ],
   "source": [
    "xobj.roll()"
   ]
  },
  {
   "cell_type": "code",
   "execution_count": 42,
   "metadata": {},
   "outputs": [
    {
     "name": "stdout",
     "output_type": "stream",
     "text": [
      "this is constructor\n",
      "this will also print\n"
     ]
    }
   ],
   "source": [
    "yobj = dog1('remo',30)"
   ]
  },
  {
   "cell_type": "code",
   "execution_count": 43,
   "metadata": {},
   "outputs": [
    {
     "name": "stdout",
     "output_type": "stream",
     "text": [
      "30 is age of dog\n"
     ]
    }
   ],
   "source": [
    "yobj.roll()"
   ]
  },
  {
   "cell_type": "code",
   "execution_count": 44,
   "metadata": {},
   "outputs": [
    {
     "name": "stdout",
     "output_type": "stream",
     "text": [
      "remo is dog\n"
     ]
    }
   ],
   "source": [
    "yobj.sit()"
   ]
  }
 ],
 "metadata": {
  "kernelspec": {
   "display_name": "Python 3",
   "language": "python",
   "name": "python3"
  },
  "language_info": {
   "codemirror_mode": {
    "name": "ipython",
    "version": 3
   },
   "file_extension": ".py",
   "mimetype": "text/x-python",
   "name": "python",
   "nbconvert_exporter": "python",
   "pygments_lexer": "ipython3",
   "version": "3.7.4"
  }
 },
 "nbformat": 4,
 "nbformat_minor": 2
}
