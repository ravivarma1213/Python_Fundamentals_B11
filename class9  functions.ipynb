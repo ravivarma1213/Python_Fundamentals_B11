{
 "cells": [
  {
   "cell_type": "code",
   "execution_count": 1,
   "metadata": {},
   "outputs": [
    {
     "name": "stdout",
     "output_type": "stream",
     "text": [
      "hello..rv.\n"
     ]
    }
   ],
   "source": [
    "#class 9 : functions in python\n",
    "# code reusability\n",
    "# defining a function to greet user\n",
    "#doc string ----> comment inside a function----> explains what exactly a func does\n",
    "def greet_user(): # def a function\n",
    "    \"\"\" display a simple greet\"\"\"\n",
    "    print(\"hello..rv.\")\n",
    "    \n",
    "greet_user() # calling a function"
   ]
  },
  {
   "cell_type": "code",
   "execution_count": 2,
   "metadata": {},
   "outputs": [
    {
     "name": "stdout",
     "output_type": "stream",
     "text": [
      "hello..Ravi\n"
     ]
    }
   ],
   "source": [
    "def greet_user1(user_name): # def a function\n",
    "    \"\"\" display a simple greet to user \"\"\"\n",
    "    print(f\"hello..{user_name.title()}\")\n",
    "    \n",
    "greet_user1('ravi') # calling a function with argument"
   ]
  },
  {
   "cell_type": "code",
   "execution_count": 4,
   "metadata": {},
   "outputs": [
    {
     "name": "stdout",
     "output_type": "stream",
     "text": [
      "\n",
      " i have dog\n",
      " my snowp is dog\n"
     ]
    }
   ],
   "source": [
    "# types of arugument\n",
    "# 1 . positional arugument\n",
    "# 2. key word argument\n",
    "def display_pet(animal_type,pet_name): \n",
    "    \"\"\"display animal name and pet name\"\"\"\n",
    "    print(f\"\\n i have {animal_type}\") # code sytntax\n",
    "    print(f\" my {pet_name} is {animal_type}\") # code sytntax\n",
    "\n",
    "display_pet('dog','snowp') # function calling with passing arguments\n"
   ]
  },
  {
   "cell_type": "code",
   "execution_count": 6,
   "metadata": {},
   "outputs": [
    {
     "name": "stdout",
     "output_type": "stream",
     "text": [
      "\n",
      " i have dog\n",
      " my xyz is dog\n"
     ]
    }
   ],
   "source": [
    "def display_pet(animal_type,pet_name ='xyz'): \n",
    "    \"\"\"display animal name and pet name\"\"\"\n",
    "    print(f\"\\n i have {animal_type}\") # code sytntax\n",
    "    print(f\" my {pet_name} is {animal_type}\") # code sytntax\n",
    "\n",
    "display_pet('dog') # function calling with passing arguments"
   ]
  },
  {
   "cell_type": "code",
   "execution_count": 5,
   "metadata": {},
   "outputs": [
    {
     "name": "stdout",
     "output_type": "stream",
     "text": [
      "\n",
      " i have dog\n",
      " my snowp is dog\n"
     ]
    }
   ],
   "source": [
    "display_pet(animal_type='dog',pet_name='snowp') # function calling with passing arguments"
   ]
  },
  {
   "cell_type": "code",
   "execution_count": 20,
   "metadata": {},
   "outputs": [
    {
     "ename": "SyntaxError",
     "evalue": "invalid syntax (<ipython-input-20-bd639e857544>, line 2)",
     "output_type": "error",
     "traceback": [
      "\u001b[1;36m  File \u001b[1;32m\"<ipython-input-20-bd639e857544>\"\u001b[1;36m, line \u001b[1;32m2\u001b[0m\n\u001b[1;33m    def get_form_name(first_name,last_name)\u001b[0m\n\u001b[1;37m                                           ^\u001b[0m\n\u001b[1;31mSyntaxError\u001b[0m\u001b[1;31m:\u001b[0m invalid syntax\n"
     ]
    }
   ],
   "source": [
    "# return values\n",
    "def get_form_name(first_name,last_name)\n",
    "\"\"\"first name and last name\"\"\"\n",
    "full_name = f\"{first_name} {last_name}\"\n",
    "\n",
    "return full_name.title()\n",
    "get_form_name('ravi','varma')"
   ]
  }
 ],
 "metadata": {
  "kernelspec": {
   "display_name": "Python 3",
   "language": "python",
   "name": "python3"
  },
  "language_info": {
   "codemirror_mode": {
    "name": "ipython",
    "version": 3
   },
   "file_extension": ".py",
   "mimetype": "text/x-python",
   "name": "python",
   "nbconvert_exporter": "python",
   "pygments_lexer": "ipython3",
   "version": "3.7.4"
  }
 },
 "nbformat": 4,
 "nbformat_minor": 2
}
